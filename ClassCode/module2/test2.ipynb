{
 "cells": [
  {
   "cell_type": "code",
   "execution_count": 8,
   "metadata": {},
   "outputs": [
    {
     "data": {
      "text/plain": [
       "1"
      ]
     },
     "execution_count": 8,
     "metadata": {},
     "output_type": "execute_result"
    }
   ],
   "source": [
    "from linklist import *\n",
    "test_list = LinkList()\n",
    "test_list.create_list_r([1,2,3,4])\n",
    "test_list[0]"
   ]
  },
  {
   "cell_type": "code",
   "execution_count": 7,
   "metadata": {},
   "outputs": [
    {
     "data": {
      "text/plain": [
       "2"
      ]
     },
     "execution_count": 7,
     "metadata": {},
     "output_type": "execute_result"
    }
   ],
   "source": [
    "# 例2.6\n",
    "def middle_1(L):\n",
    "    j = 1\n",
    "    n = L.getsize()\n",
    "    p = L.head.next\n",
    "    while j <= (n-1)//2:\n",
    "        j += 1\n",
    "        p = p.next\n",
    "    return p.data\n",
    "\n",
    "\n",
    "def middle_2(L):\n",
    "    slow = L.head.next\n",
    "    fast = L.head.next\n",
    "    while fast != None and fast.next != None and fast.next.next != None:\n",
    "        slow = slow.next\n",
    "        fast = fast.next.next\n",
    "    return slow.data\n",
    "\n",
    "\n",
    "middle_1(test_list)\n"
   ]
  },
  {
   "cell_type": "code",
   "execution_count": 10,
   "metadata": {},
   "outputs": [
    {
     "data": {
      "text/plain": [
       "1"
      ]
     },
     "execution_count": 10,
     "metadata": {},
     "output_type": "execute_result"
    }
   ],
   "source": [
    "# 例2.7\n",
    "def max_count(L):\n",
    "    cnt = 1\n",
    "    p = L.head.next\n",
    "    maxe = p.data\n",
    "    while p.next != None:\n",
    "        if p.next.data > maxe:\n",
    "            maxe = p.next.data\n",
    "            cnt =1\n",
    "        elif p.next.data == maxe:\n",
    "            cnt +=1\n",
    "        p = p.next\n",
    "    return cnt\n",
    "max_count(test_list)"
   ]
  },
  {
   "cell_type": "code",
   "execution_count": 11,
   "metadata": {},
   "outputs": [
    {
     "name": "stdout",
     "output_type": "stream",
     "text": [
      "123\n"
     ]
    }
   ],
   "source": [
    "# 例2.8\n",
    "def del_max_nodes(L):\n",
    "    \"\"\"删除最大值的所有节点\"\"\"\n",
    "    p = L.head.next\n",
    "    maxe = p.data\n",
    "    while p.next != None:\n",
    "        if p.next.data >maxe:\n",
    "            maxe = p.next.data\n",
    "        p=p.next\n",
    "    pre = L.head\n",
    "    p = pre.next\n",
    "    while p!= None:\n",
    "        if p.data==maxe:\n",
    "            pre.next =p.next\n",
    "            p = pre.next\n",
    "        else:\n",
    "            pre = pre.next\n",
    "            p = pre.next\n",
    "del_max_nodes(test_list)\n",
    "test_list.display()"
   ]
  },
  {
   "cell_type": "code",
   "execution_count": 12,
   "metadata": {},
   "outputs": [
    {
     "name": "stdout",
     "output_type": "stream",
     "text": [
      "321\n"
     ]
    }
   ],
   "source": [
    "# 例2.9\n",
    "def reverse(L):\n",
    "    p = L.head.next\n",
    "    L.head.next = None\n",
    "    while p!= None:\n",
    "        q = p.next\n",
    "        p.next = L.head.next\n",
    "        L.head.next = p\n",
    "        p=q\n",
    "reverse(test_list)\n",
    "test_list.display()"
   ]
  },
  {
   "cell_type": "code",
   "execution_count": 14,
   "metadata": {},
   "outputs": [
    {
     "name": "stdout",
     "output_type": "stream",
     "text": [
      "31\n",
      "31\n",
      "2\n"
     ]
    }
   ],
   "source": [
    "# 例2.10\n",
    "def split(L,A,B):\n",
    "    p = L.head.next\n",
    "    t = A.head\n",
    "    while p!=None:\n",
    "        t.next=p\n",
    "        t=p\n",
    "        p=p.next\n",
    "        if p!=None:\n",
    "            q=p.next\n",
    "            p.next = B.head.next\n",
    "            B.head.next = p\n",
    "            p=q\n",
    "    t.next = None\n",
    "A = LinkList()\n",
    "B = LinkList()\n",
    "split(test_list,A,B)\n",
    "test_list.display()\n",
    "A.display()\n",
    "B.display()"
   ]
  },
  {
   "cell_type": "code",
   "execution_count": null,
   "metadata": {},
   "outputs": [],
   "source": [
    "# 例2.11\n",
    "def merge(A,B):\n",
    "    p = A.head.next\n",
    "    q = B.head.next\n",
    "    C = LinkList()\n",
    "    t = C.head\n",
    "    while p!=None and q!=None:\n",
    "        if p.data<q.data:\n",
    "            p = p.next\n",
    "        elif q.data<p.data:\n",
    "            q=q.next\n",
    "        else:\n",
    "            s = LinkNode(p.data)\n",
    "            t.next = s\n",
    "            t=s\n",
    "            p=p.next\n",
    "            q= q.next\n",
    "    t.next =None\n",
    "    return C"
   ]
  }
 ],
 "metadata": {
  "interpreter": {
   "hash": "51a9663a131f1b5758c45b97a2d6917c8ae86b33e231c3733631cbc7265cfc89"
  },
  "kernelspec": {
   "display_name": "Python 3.8.3 ('base')",
   "language": "python",
   "name": "python3"
  },
  "language_info": {
   "codemirror_mode": {
    "name": "ipython",
    "version": 3
   },
   "file_extension": ".py",
   "mimetype": "text/x-python",
   "name": "python",
   "nbconvert_exporter": "python",
   "pygments_lexer": "ipython3",
   "version": "3.8.3"
  },
  "orig_nbformat": 4
 },
 "nbformat": 4,
 "nbformat_minor": 2
}
