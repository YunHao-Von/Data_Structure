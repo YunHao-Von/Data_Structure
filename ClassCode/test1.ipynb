{
 "cells": [
  {
   "cell_type": "code",
   "execution_count": 1,
   "metadata": {},
   "outputs": [],
   "source": [
    "# 例2.1\n",
    "def reverse(L):\n",
    "    i = 0\n",
    "    j = L.getsize()-1\n",
    "    while i < j:\n",
    "        L[i], L[j] = L[j], L[i]\n",
    "        i += 1\n",
    "        j -= 1"
   ]
  },
  {
   "cell_type": "code",
   "execution_count": 2,
   "metadata": {},
   "outputs": [
    {
     "name": "stdout",
     "output_type": "stream",
     "text": [
      "1\n",
      "2\n",
      "3\n",
      "4\n",
      "5\n",
      "finish\n",
      "5\n",
      "4\n",
      "3\n",
      "2\n",
      "1\n",
      "finish\n"
     ]
    }
   ],
   "source": [
    "from sqlist import SqList\n",
    "L = SqList()\n",
    "L.createlist([1,2,3,4,5])\n",
    "L.display()\n",
    "reverse(L)  # 注意此处L为可变类型，所以是传递参数后值也会改变\n",
    "L.display()"
   ]
  },
  {
   "cell_type": "code",
   "execution_count": 3,
   "metadata": {},
   "outputs": [],
   "source": [
    "# 例2.2\n",
    "def deletek(L, i, k):\n",
    "    assert i >= 0 and k >= 1 and i+k >= 1 and i+k <= L.getsize()\n",
    "    for j in range(i+k, L.getsize()):\n",
    "        L[j-k] = L[j]\n",
    "    L.size -= k"
   ]
  },
  {
   "cell_type": "code",
   "execution_count": 4,
   "metadata": {},
   "outputs": [],
   "source": [
    "# 例2.3\n",
    "def deletex(L,x):\n",
    "    k = 0\n",
    "    for i in range(L.getsize()):\n",
    "        if L[i] != x:\n",
    "            L[k]=L[i]\n",
    "            k+=1\n",
    "    L.size=k"
   ]
  },
  {
   "cell_type": "code",
   "execution_count": 5,
   "metadata": {},
   "outputs": [],
   "source": [
    "# 例2.4 二路归并\n",
    "def merge2(A,B):\n",
    "    C = SqList()\n",
    "    i=j=0\n",
    "    while i <A.getsize() and j< B.getsize():\n",
    "        if A[i]<B[j]:\n",
    "            C.add(A[i])\n",
    "            i+=1\n",
    "        else:\n",
    "            C.add(B[j])\n",
    "            j+=1\n",
    "    while i<A.getsize():\n",
    "        C.add(A[i])\n",
    "        i+=1\n",
    "    while j<B.getsize():\n",
    "        C.add(B[j])\n",
    "        j+=1\n",
    "    return C"
   ]
  }
 ],
 "metadata": {
  "interpreter": {
   "hash": "51a9663a131f1b5758c45b97a2d6917c8ae86b33e231c3733631cbc7265cfc89"
  },
  "kernelspec": {
   "display_name": "Python 3.8.3 ('base')",
   "language": "python",
   "name": "python3"
  },
  "language_info": {
   "codemirror_mode": {
    "name": "ipython",
    "version": 3
   },
   "file_extension": ".py",
   "mimetype": "text/x-python",
   "name": "python",
   "nbconvert_exporter": "python",
   "pygments_lexer": "ipython3",
   "version": "3.8.3"
  },
  "orig_nbformat": 4
 },
 "nbformat": 4,
 "nbformat_minor": 2
}
